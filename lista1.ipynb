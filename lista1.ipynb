{
 "cells": [
  {
   "cell_type": "markdown",
   "metadata": {},
   "source": [
    "# Lista 1\n",
    "\n",
    "## Kurs wybranego języka programowania (Python)\n",
    "\n",
    "Wszystkie rozwiązania proszę wpisać w tym notatniku poniżej treści zadań. Zadania z `*` to zadania dodatkowe."
   ]
  },
  {
   "cell_type": "markdown",
   "metadata": {},
   "source": [
    "## Zadanie 1 _(5pt)_\n",
    "\n",
    "Napisz funkcję, który wyświetla trójkąt Pascala o zadanej wysokości\n",
    "```\n",
    "                1\n",
    "              1   1\n",
    "            1   2   1\n",
    "          1   3   3   1\n",
    "        1   4   6   4   1\n",
    "      .....................\n",
    "```"
   ]
  },
  {
   "cell_type": "code",
   "execution_count": 1,
   "metadata": {},
   "outputs": [
    {
     "name": "stdout",
     "output_type": "stream",
     "text": [
      "                                        1       \n",
      "                                    1       1       \n",
      "                                1       2       1               \n",
      "                            1       3       3       1               \n",
      "                        1       4       6       4       1               \n",
      "                    1       5       10      10      5       1               \n",
      "                1       6       15      20      15      6       1               \n",
      "            1       7       21      35      35      21      7       1               \n",
      "        1       8       28      56      70      56      28      8       1               \n",
      "    1       9       36      84      126     126     84      36      9       1               \n"
     ]
    }
   ],
   "source": [
    "def pascal_triangle(n):\n",
    "    levels = []\n",
    "    levels.append('1')\n",
    "    levels.append('1 1')\n",
    "    prev_elements = [1, 1]\n",
    "    for i in range(2, n):\n",
    "        a = '1 '\n",
    "        new_elements = [1]\n",
    "        for k in range(len(prev_elements) - 1):\n",
    "            new_element = prev_elements[k] + prev_elements[k + 1]\n",
    "            a += str(new_element) + ' '\n",
    "            new_elements.append(new_element)\n",
    "        new_elements.append(1)\n",
    "        a += '1 '\n",
    "        levels.append(a)\n",
    "        prev_elements = new_elements\n",
    "    k = len(str(max(new_elements)))\n",
    "    space2 = ' ' + k * ' '\n",
    "    for i in range(len(levels)):\n",
    "        print(f'{(n - i) * space2}', end='')\n",
    "        new_s = levels[i].split(' ')\n",
    "        for j in new_s:\n",
    "            new_space = \"  \" + (k - 1) * ' ' + (k - len(j) + 1) * ' '\n",
    "            print(j, end=new_space)\n",
    "        print()\n",
    "\n",
    "\n",
    "pascal_triangle(10)"
   ]
  },
  {
   "cell_type": "markdown",
   "metadata": {},
   "source": [
    "## Zadanie 2 _(5pt)_\n",
    "\n",
    "Napisz funkcję `primes(n)` zwracająca listę liczb pierwszych nie większych niż $n$ np.\n",
    "\n",
    "```\n",
    "In [ ]:   primes(6)\n",
    "Out [ ]: [2, 3, 5]\n",
    "```"
   ]
  },
  {
   "cell_type": "code",
   "execution_count": 2,
   "metadata": {},
   "outputs": [
    {
     "name": "stdout",
     "output_type": "stream",
     "text": [
      "[2, 3, 5, 7, 11, 13, 17, 19, 23, 29, 31, 37, 41, 43, 47, 53, 59, 61, 67, 71, 73, 79, 83, 89, 97, 101, 103, 107, 109, 113, 127, 131, 137, 139, 149, 151, 157, 163, 167, 173, 179, 181, 191, 193, 197, 199, 211, 223, 227, 229, 233, 239, 241, 251, 257, 263, 269, 271, 277, 281, 283, 293, 307, 311, 313, 317, 331, 337, 347, 349, 353, 359, 367, 373, 379, 383, 389, 397, 401, 409, 419, 421, 431, 433, 439, 443, 449, 457, 461, 463, 467, 479, 487, 491, 499, 503, 509, 521, 523, 541, 547, 557, 563, 569, 571, 577, 587, 593, 599, 601, 607, 613, 617, 619, 631, 641, 643, 647, 653, 659, 661, 673, 677, 683, 691, 701, 709, 719, 727, 733, 739, 743, 751, 757, 761, 769, 773, 787, 797, 809, 811, 821, 823, 827, 829, 839, 853, 857, 859, 863, 877, 881, 883, 887, 907, 911, 919, 929, 937, 941, 947, 953, 967, 971, 977, 983, 991, 997, 1009]\n"
     ]
    }
   ],
   "source": [
    "def primes(n):\n",
    "    prime_numbers = []\n",
    "    for i in range(2,n):\n",
    "        count = 0\n",
    "        for k in range(2, int(i**0.5)+1):\n",
    "            if i % k == 0:\n",
    "                count+=1\n",
    "        if count == 0:\n",
    "            prime_numbers.append(i)\n",
    "    return prime_numbers\n",
    "\n",
    "\n",
    "print(primes(1010))"
   ]
  },
  {
   "cell_type": "markdown",
   "metadata": {},
   "source": [
    "## Zadanie 3 _(5pt)_\n",
    "\n",
    "Napisz funkcje, która usuwa wszystkie powtarzające się elementy z listy (tak, że każdy element występuje tylko raz) np. z listy `[1,1,2,2,2,3,3,5,5,5,4,4,4,0]` dostajemy `[1,2,3,5,4,0]`."
   ]
  },
  {
   "cell_type": "code",
   "execution_count": 4,
   "metadata": {},
   "outputs": [
    {
     "name": "stdout",
     "output_type": "stream",
     "text": [
      "[1, 2, 4, 3, 6]\n"
     ]
    }
   ],
   "source": [
    "def clean_list(list):\n",
    "    return [i for i in set(list)]\n",
    "\n",
    "\n",
    "print(clean_list([1, 1, 1, 2, 4, 1, 3, 2, 6]))\n"
   ]
  },
  {
   "cell_type": "markdown",
   "metadata": {},
   "source": [
    "## Zadanie 4 _(10pt)_\n",
    "\n",
    "Napisz funkcję `prime_factors(n)`, która rozkłada $n$ na czynniki pierwsze i jako wynik wraca listę par $[(p_1,\\alpha_1), (p_2,\\alpha_2), \\ldots, (p_k, \\alpha_k)]$ taką, że $p_1^{\\alpha_1}p_2^{\\alpha_2}\\ldots p_k^{\\alpha_k}$.\n"
   ]
  },
  {
   "cell_type": "code",
   "execution_count": 4,
   "metadata": {},
   "outputs": [
    {
     "name": "stdout",
     "output_type": "stream",
     "text": [
      "[(2, 3), (3, 1), (5, 1)]\n"
     ]
    }
   ],
   "source": [
    "from collections import Counter\n",
    "\n",
    "\n",
    "def primes(n):\n",
    "    prime_numbers = []\n",
    "    for i in range(2, n):\n",
    "        count = 0\n",
    "        for k in range(2, int(i ** 0.5) + 1):\n",
    "            if i % k == 0:\n",
    "                count += 1\n",
    "        if count == 0:\n",
    "            prime_numbers.append(i)\n",
    "    return prime_numbers\n",
    "\n",
    "\n",
    "def prime_factors(n):\n",
    "    number = n\n",
    "    primes_list = primes(n)\n",
    "    output_list = []\n",
    "    while number != 1:\n",
    "        for i in primes_list:\n",
    "            if number % i == 0:\n",
    "                output_list.append(i)\n",
    "                number = number / i\n",
    "                break\n",
    "    dictionary = Counter(output_list)\n",
    "    output_list = [(key, value) for (key, value) in dictionary.items()]\n",
    "    return output_list\n",
    "\n",
    "\n",
    "print(prime_factors(120))\n"
   ]
  },
  {
   "cell_type": "markdown",
   "metadata": {},
   "source": [
    "## Zadanie 5 _(10pt)_\n",
    "\n",
    "Napisz funkcję `fraczero(n)` liczącą silnie $n!$ dla $n$ od $0$ do $10000$ oraz jako wynik wraca liczbę zer na końcu $n!$."
   ]
  },
  {
   "cell_type": "code",
   "execution_count": 5,
   "metadata": {},
   "outputs": [
    {
     "name": "stdout",
     "output_type": "stream",
     "text": [
      "24\n"
     ]
    }
   ],
   "source": [
    "def zero_in_factorial(n):\n",
    "    if n<0 or n>10000:\n",
    "        print(\"wrong range\")\n",
    "    else:\n",
    "        zeroes = 0\n",
    "        while n != 0:\n",
    "            zeroes += int(n/5)\n",
    "            n = int(n/5)\n",
    "        return zeroes\n",
    "\n",
    "\n",
    "print(zero_in_factorial(100))\n"
   ]
  },
  {
   "cell_type": "markdown",
   "metadata": {},
   "source": [
    "## Zadanie 6 _(10pt)_\n",
    "\n",
    "Napisz program, który generuje liczbę $20$ liczb losowych (rozkład jednostajny) od $1$ do $100$\n",
    "* Wyświetl listę wygenerowanych liczb\n",
    "* Wyświetl średnią\n",
    "* Wyświetl największą i najmniejszą wartość\n",
    "* Wyświetl drugą największą i drugą najmniejszą wartość na liście\n",
    "* Wyświetl ile jest liczb parzystych na liście\n",
    " "
   ]
  },
  {
   "cell_type": "code",
   "execution_count": 6,
   "metadata": {},
   "outputs": [
    {
     "name": "stdout",
     "output_type": "stream",
     "text": [
      "numbers : [83, 84, 37, 25, 11, 5, 11, 39, 30, 3, 97, 76, 12, 17, 43, 31, 17, 73, 93, 99]\n",
      "mean : 44.3\n",
      "min : 3\n",
      "max : 99\n",
      "second max:97\n",
      "second min:5\n",
      "even numbers: 4\n"
     ]
    }
   ],
   "source": [
    "from random import randint\n",
    "from statistics import mean\n",
    "\n",
    "numbers = [randint(1, 101) for i in range(20)]\n",
    "even_numbers = [i for i in numbers if i % 2 == 0]\n",
    "print(f'numbers : {numbers}')\n",
    "print(f'mean : {mean(numbers)}')\n",
    "print(f'min : {min(numbers)}\\nmax : {max(numbers)}')\n",
    "print(f'''second max:{max([i for i in numbers if i != max(numbers)])}\n",
    "second min:{min([i for i in numbers if i != min(numbers)])}''')\n",
    "print(f'even numbers: {len(even_numbers)}')"
   ]
  },
  {
   "cell_type": "markdown",
   "metadata": {},
   "source": [
    "## Zadanie 7 _(10pt)_\n",
    "\n",
    "Załóżmy, że mamy następującą listę: `L = ['aababacaa', 'cabaabcca', 'aaabbcbacb', 'acababbaab', ...]` wygenerowaną losowo tzn. lista zawiera losowe ciągi znaków o zadanej długości z liter `'a'`, `'b'` i `'c'`. Takie wzorce występują w wielu miejscach np. sekwencje DNA. Użytkownik zawiera swój (wzorzec) ciąg znaków z literami i pustymi miejscami oznaczonymi przez `'*'` np. `\"a**a******\"`. Wykorzystaj słownik z kluczami zawierającymi indeksy znaków różnych od `'*'` i wartościami liter z wzorca. Napisz program, który znajduje wszystkie sekwencje z listy, które pasuje do podanego wzorca."
   ]
  },
  {
   "cell_type": "code",
   "execution_count": 7,
   "metadata": {},
   "outputs": [
    {
     "name": "stdout",
     "output_type": "stream",
     "text": [
      "['cabcbacbc', 'cbccbccba', 'abccaaacc', 'caacbbbca', 'accbbccac', 'aabbabbab', 'acccacaab', 'bcabacacc', 'aaccccbcb', 'bcacacaab', 'cbaacbaac', 'cbaccacaa', 'abbbcaaab', 'baccaacac', 'accccaabc', 'aabcacbcb', 'cbacccaca', 'baabacccc', 'cccabcaac', 'cccabbccc']\n",
      "podaj wzorzec:    a*c\n",
      "['abccaaacc', 'accbbccac', 'acccacaab', 'aaccccbcb', 'accccaabc']\n"
     ]
    }
   ],
   "source": [
    "from random import randint\n",
    "\n",
    "letters = ['' for i in range(20)]\n",
    "sequences = [i.join(['a' if randint(1, 3) == 1 else 'b' if randint(1, 3) == 2 else 'c' for i in range(9)]) for i in\n",
    "             letters]\n",
    "\n",
    "print(sequences)\n",
    "\n",
    "x = input(\"podaj wzorzec:    \") + '*********'\n",
    "pattern_counter = {i: x[i] for i in range(9) if x[i] != '*'}\n",
    "passed_sequences = []\n",
    "for seq in sequences:\n",
    "    passed = False\n",
    "    for key in pattern_counter:\n",
    "        if seq[int(key)] == pattern_counter[key]:\n",
    "            passed = True\n",
    "        else:\n",
    "            passed = False\n",
    "            break\n",
    "    if passed:\n",
    "        passed_sequences.append(seq)\n",
    "print(passed_sequences)"
   ]
  },
  {
   "cell_type": "markdown",
   "metadata": {},
   "source": [
    "## Zadanie 8 _(10pt)_\n",
    "\n",
    "Napisz program, który konwerteruje liczby rzymskie na liczby arabskie. Do zapisu liczb rzymskich używa\n",
    "się 7 liter: `I=1`, `V=5`, `X=10`, `L=50`, `C=100`, `D=500`, `M=1000`. Opis algorytmu zamiany z i na system rzymski można znaleźć np. [tutaj](http://www.algorytm.org/algorytmy-arytmetyczne/zamiana-z-i-na-system-rzymski.html)"
   ]
  },
  {
   "cell_type": "code",
   "execution_count": 3,
   "metadata": {},
   "outputs": [
    {
     "name": "stdout",
     "output_type": "stream",
     "text": [
      "Podaj liczbe rzymska: MXCIV\n",
      "1094\n"
     ]
    }
   ],
   "source": [
    "arabic = [1000, 500, 100, 50, 10, 5, 1]\n",
    "roman = ['M', 'D', 'C', \"L\", 'X', 'V', 'I']\n",
    "\n",
    "ROMAN_N = len(arabic)\n",
    "\n",
    "\n",
    "def roman2arabic(number):\n",
    "    i = 0\n",
    "    j = 0\n",
    "    result = 0\n",
    "\n",
    "    length = len(number)\n",
    "\n",
    "    while (j < length) and (i < ROMAN_N):\n",
    "        if number[j] == roman[i]:\n",
    "            result += arabic[i]\n",
    "            j += 1\n",
    "        elif i % 2 == 0 and i < ROMAN_N - 2 and j < length - 1 and number[j] == roman[i + 2] and number[j + 1] == roman[\n",
    "            i]:\n",
    "            result += arabic[i] - arabic[i + 2]\n",
    "            j += 2\n",
    "            i += 1\n",
    "        elif i % 2 == 1 and i < ROMAN_N - 1 and j < length - 1 and number[j] == roman[i + 1] and number[j + 1] == roman[\n",
    "            i]:\n",
    "            result += arabic[i] - arabic[i + 1]\n",
    "            j += 2\n",
    "            i += 1\n",
    "        else:\n",
    "            i += 1\n",
    "\n",
    "    if i == ROMAN_N:\n",
    "        result -= 1\n",
    "\n",
    "    return result\n",
    "\n",
    "x = input(\"Podaj liczbe rzymska: \")\n",
    "print(roman2arabic(x))\n"
   ]
  },
  {
   "cell_type": "markdown",
   "metadata": {},
   "source": [
    "## Zadanie 9* _(5pt)_\n",
    "\n",
    "Napisz program kalkulator, który pobiera wprowadzone wartości oraz funkcje z klawiatury następnie podaje wynik. W przypadku błędnych danych zgłasza błąd.\n",
    "\n",
    "Przykładowa sesja:\n",
    "```\n",
    "    Kalkulator\n",
    "    [1]: 2+5*10\n",
    "        52\n",
    "    [2]: sin(0.5)+cos(0.3)\n",
    "        1.434762027729809\n",
    "    [3]: 2^100\n",
    "        1267650600228229401496703205376\n",
    "```\n",
    "\n",
    "Przykładowy kod pobierania danych od użytkownika:\n",
    "\n",
    "```\n",
    "    x = input('Podaj x = ')\n",
    "```"
   ]
  },
  {
   "cell_type": "code",
   "execution_count": null,
   "metadata": {},
   "outputs": [],
   "source": [
    "from math import sin, cos, tan\n",
    "\n",
    "while True:\n",
    "    x = input(\"\\nEnter expression:\\n\")\n",
    "    x = x.replace('^', '**')\n",
    "    x = x.replace('ctg', '1/tan')\n",
    "    print('Result : ', eval(x))"
   ]
  },
  {
   "cell_type": "markdown",
   "metadata": {
    "pycharm": {
     "name": "#%% md\n"
    }
   },
   "source": []
  }
 ],
 "metadata": {
  "kernelspec": {
   "display_name": "Python 3",
   "language": "python",
   "name": "python3"
  },
  "language_info": {
   "codemirror_mode": {
    "name": "ipython",
    "version": 3
   },
   "file_extension": ".py",
   "mimetype": "text/x-python",
   "name": "python",
   "nbconvert_exporter": "python",
   "pygments_lexer": "ipython3",
   "version": "3.7.4"
  },
  "pycharm": {
   "stem_cell": {
    "cell_type": "raw",
    "source": [],
    "metadata": {
     "collapsed": false
    }
   }
  }
 },
 "nbformat": 4,
 "nbformat_minor": 2
}